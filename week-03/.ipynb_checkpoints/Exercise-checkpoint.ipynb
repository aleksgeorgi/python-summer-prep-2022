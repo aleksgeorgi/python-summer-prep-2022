{
 "cells": [
  {
   "cell_type": "markdown",
   "metadata": {},
   "source": [
    "## #1 Figure out how to print the current date and time. \n",
    "The solution should be in this format:  2021-08-05 11:56:30 (YYYY-MM-DD HH:MM:SS)\n",
    "\n",
    "Hint:  You're going to have to import a library"
   ]
  },
  {
   "cell_type": "code",
   "execution_count": 1,
   "metadata": {},
   "outputs": [
    {
     "name": "stdout",
     "output_type": "stream",
     "text": [
      "2022-08-10 13:28:43.683229\n"
     ]
    }
   ],
   "source": [
    "from datetime import datetime\n",
    "\n",
    "now = datetime.now()\n",
    "print(now)"
   ]
  },
  {
   "cell_type": "markdown",
   "metadata": {},
   "source": [
    "## #2 Write a function that accepts the radius of a circle and returns the area of a circle.  \n",
    "The function for the area of a circle is pi * radius squared.  "
   ]
  },
  {
   "cell_type": "code",
   "execution_count": 2,
   "metadata": {},
   "outputs": [
    {
     "data": {
      "text/plain": [
       "0.7853981633974483"
      ]
     },
     "execution_count": 2,
     "metadata": {},
     "output_type": "execute_result"
    }
   ],
   "source": [
    "import math\n",
    "\n",
    "def area(radius):\n",
    "    return math.pi * (radius)**2\n",
    "\n",
    "area(.5)"
   ]
  },
  {
   "cell_type": "markdown",
   "metadata": {},
   "source": [
    "## #3 Write a function that takes a list of numbers and returns True of all number in the list are unique and returns False if the list contains duplicate numbers. \n",
    "* Hint, maybe think of using a set()\n",
    "\n",
    "Input:  input_list = [2,4,5,5,7,9]\n",
    "\n",
    "Expected Output:  False"
   ]
  },
  {
   "cell_type": "code",
   "execution_count": 3,
   "metadata": {},
   "outputs": [
    {
     "data": {
      "text/plain": [
       "False"
      ]
     },
     "execution_count": 3,
     "metadata": {},
     "output_type": "execute_result"
    }
   ],
   "source": [
    "my_list = [2,4,5,5,7,9]\n",
    "\n",
    "def equals(my_list):\n",
    "    new_list = list(set(my_list))\n",
    "    if len(new_list) == len(my_list):\n",
    "        return True\n",
    "    return False\n",
    "\n",
    "equals(my_list)"
   ]
  },
  {
   "cell_type": "markdown",
   "metadata": {},
   "source": [
    "## #4 Write a Python program to count the number of each character of a given text of a text file.\n",
    "* Use the text file called 'lil-wayne.txt' in the data folder.  \n",
    "* Convert all the characters to uppercase first, then count them.  \n",
    "* Use a dictionary in which the keys of the dictionary are the characters, and the values are the counts of that character. \n",
    "\n",
    "Expected Result:  `{'D': 74, 'W': 63, 'A': 211, 'Y': 44, 'N': 165, 'E': 274, ' ': 522, 'M': 77, 'I': 185, 'C': 60, 'H': 122, 'L': 126, 'R': 152, 'T': 180, 'J': 8, '.': 26, '(': 12, 'B': 59, 'O': 145, 'S': 152, 'P': 39, '2': 24, '7': 7, ',': 37, '1': 28, '9': 16, '8': 6, ')': 12, '[': 14, ']': 14, 'K': 13, 'F': 44, 'G': 53, 'X': 5, 'U': 66, 'V': 20, '3': 2, '4': 4, '5': 5, '6': 3, '0': 36, '\\n': 6, '-': 6, ';': 1, '!': 1, '\"': 8, \"'\": 3, '—': 1}`"
   ]
  },
  {
   "cell_type": "code",
   "execution_count": 4,
   "metadata": {},
   "outputs": [
    {
     "name": "stdout",
     "output_type": "stream",
     "text": [
      "{'D': 74, 'W': 63, 'A': 211, 'Y': 44, 'N': 165, 'E': 274, ' ': 522, 'M': 77, 'I': 185, 'C': 60, 'H': 122, 'L': 126, 'R': 152, 'T': 180, 'J': 8, '.': 26, '(': 12, 'B': 59, 'O': 145, 'S': 152, 'P': 39, '2': 24, '7': 7, ',': 37, '1': 28, '9': 16, '8': 6, ')': 12, '[': 14, ']': 14, 'K': 13, 'F': 44, 'G': 53, 'X': 5, 'U': 66, 'V': 20, '3': 2, '4': 4, '5': 5, '6': 3, '0': 36, '\\n': 6, '-': 6, ';': 1, '!': 1, '—': 1}\n"
     ]
    }
   ],
   "source": [
    "path_to_file = 'data/lil-wayne.txt'\n",
    "file_handle = open(file=path_to_file)\n",
    "data = file_handle.read()\n",
    "\n",
    "upper_data = data.upper()\n",
    "\n",
    "#create a list of all letter characters \n",
    "letters_list = []\n",
    "\n",
    "for letters in upper_data:\n",
    "    letters_list.append(letters)\n",
    "    \n",
    "#declare a new dictionary \n",
    "my_dict = {}\n",
    "\n",
    "# add new key:value elements to the diction \n",
    "for letter in letters_list:\n",
    "    counter = letters_list.count(letter)\n",
    "    my_dict[letter]=counter\n",
    "\n",
    "print(my_dict)"
   ]
  },
  {
   "cell_type": "markdown",
   "metadata": {},
   "source": [
    "# 4.5 Figure out how to sort the dictionary to find which character appears the most."
   ]
  },
  {
   "cell_type": "code",
   "execution_count": 5,
   "metadata": {},
   "outputs": [
    {
     "data": {
      "text/plain": [
       "{' ': 522,\n",
       " 'E': 274,\n",
       " 'A': 211,\n",
       " 'I': 185,\n",
       " 'T': 180,\n",
       " 'N': 165,\n",
       " 'R': 152,\n",
       " 'S': 152,\n",
       " 'O': 145,\n",
       " 'L': 126,\n",
       " 'H': 122,\n",
       " 'M': 77,\n",
       " 'D': 74,\n",
       " 'U': 66,\n",
       " 'W': 63,\n",
       " 'C': 60,\n",
       " 'B': 59,\n",
       " 'G': 53,\n",
       " 'Y': 44,\n",
       " 'F': 44,\n",
       " 'P': 39,\n",
       " ',': 37,\n",
       " '0': 36,\n",
       " '1': 28,\n",
       " '.': 26,\n",
       " '2': 24,\n",
       " 'V': 20,\n",
       " '9': 16,\n",
       " '[': 14,\n",
       " ']': 14,\n",
       " 'K': 13,\n",
       " '(': 12,\n",
       " ')': 12,\n",
       " 'J': 8,\n",
       " '7': 7,\n",
       " '8': 6,\n",
       " '\\n': 6,\n",
       " '-': 6,\n",
       " 'X': 5,\n",
       " '5': 5,\n",
       " '4': 4,\n",
       " '6': 3,\n",
       " '3': 2,\n",
       " ';': 1,\n",
       " '!': 1,\n",
       " '—': 1}"
      ]
     },
     "execution_count": 5,
     "metadata": {},
     "output_type": "execute_result"
    }
   ],
   "source": [
    "dict(sorted(my_dict.items(), reverse = True, key=lambda item: item[1]))"
   ]
  },
  {
   "cell_type": "markdown",
   "metadata": {},
   "source": [
    "## #5 Using the list below...\n",
    "* Remove the fourth number from the list.\n",
    "* Take that number you just removed and multiply the last number of the list by that number. \n",
    "* Append that number to the end of the list.\n",
    "* Print the list\n",
    "\n",
    "INPUT: [1, 1, 2, 3, 5, 8, 13, 21]\n",
    "\n",
    "EXPECTED OUTPUT:  [1, 1, 2, 5, 8, 13, 21, 63]\n",
    "\n"
   ]
  },
  {
   "cell_type": "code",
   "execution_count": 6,
   "metadata": {},
   "outputs": [
    {
     "name": "stdout",
     "output_type": "stream",
     "text": [
      "[1, 1, 2, 5, 8, 13, 21, 63]\n"
     ]
    }
   ],
   "source": [
    "list1 = [1, 1, 2, 3, 5, 8, 13, 21]\n",
    "\n",
    "#Remove the fourth number from the list.\n",
    "fourth = list1.pop(3)\n",
    "\n",
    "#Take that number you just removed and multiply the last number of the list by that number.\n",
    "product = fourth*list1[-1]\n",
    "\n",
    "#Append that number to the end of the list.\n",
    "list1.append(product)\n",
    "\n",
    "#Print the list\n",
    "print(list1)"
   ]
  },
  {
   "cell_type": "markdown",
   "metadata": {},
   "source": [
    "## #6 Using the list below, make a new list that contains only the numbers from the original list that are divisible by three.\n",
    "\n",
    "* Input:  original_list = [2, 3, 6, 8, 9, 15, 19, 21]\n",
    "* Expected new list:  [3, 6, 9, 15, 21]\n"
   ]
  },
  {
   "cell_type": "code",
   "execution_count": 7,
   "metadata": {},
   "outputs": [
    {
     "name": "stdout",
     "output_type": "stream",
     "text": [
      "[3, 6, 9, 15, 21]\n"
     ]
    }
   ],
   "source": [
    "original_list = [2, 3, 6, 8, 9, 15, 19, 21]\n",
    "\n",
    "new_list=[]\n",
    "\n",
    "for num in original_list:\n",
    "    if num%3==0:\n",
    "        new_list.append(num)\n",
    "        \n",
    "print(new_list)"
   ]
  },
  {
   "cell_type": "markdown",
   "metadata": {},
   "source": [
    "## #7 Reverse the list below"
   ]
  },
  {
   "cell_type": "code",
   "execution_count": 8,
   "metadata": {},
   "outputs": [
    {
     "name": "stdout",
     "output_type": "stream",
     "text": [
      "[21, 19, 15, 9, 8, 6, 3, 2]\n"
     ]
    }
   ],
   "source": [
    "original_list = [2, 3, 6, 8, 9, 15, 19, 21]\n",
    "\n",
    "original_list.reverse()\n",
    "\n",
    "print(original_list)"
   ]
  },
  {
   "cell_type": "markdown",
   "metadata": {},
   "source": [
    "## #8 Using the list below, turn every item of the list into its square.  \n",
    "* Input original_list = [1, 2, 3, 4, 5, 6, 7]\n",
    "* Expected new_list:  [1, 4, 9, 16, 25, 36, 49]\n"
   ]
  },
  {
   "cell_type": "code",
   "execution_count": 9,
   "metadata": {},
   "outputs": [
    {
     "name": "stdout",
     "output_type": "stream",
     "text": [
      "[1, 4, 9, 16, 25, 36, 49]\n"
     ]
    }
   ],
   "source": [
    "original_list = [1, 2, 3, 4, 5, 6, 7]\n",
    "\n",
    "new_list = []\n",
    "\n",
    "for num in original_list:\n",
    "    new_list.append(num*num)\n",
    "    \n",
    "print(new_list)"
   ]
  },
  {
   "cell_type": "markdown",
   "metadata": {},
   "source": [
    "## #9  Given a two Python list. Iterate both lists simultaneously such that list1 should display item in original order and list2 in reverse order.\n",
    "Given input:\n",
    "```\n",
    "list1 = [10, 20, 30, 40]\n",
    "list2 = [100, 200, 300, 400]\n",
    "```\n",
    "\n",
    "Expected Output:\n",
    "```\n",
    "10 400\n",
    "20 300\n",
    "30 200\n",
    "40 100\n",
    "```"
   ]
  },
  {
   "cell_type": "code",
   "execution_count": 10,
   "metadata": {},
   "outputs": [
    {
     "name": "stdout",
     "output_type": "stream",
     "text": [
      "10 400\n",
      "20 300\n",
      "30 200\n",
      "40 100\n"
     ]
    }
   ],
   "source": [
    "list1 = [10, 20, 30, 40]\n",
    "list2 = [100, 200, 300, 400]\n",
    "\n",
    "for num in range(len(list1)):\n",
    "    print(list1[num], list2[-1-num])"
   ]
  },
  {
   "cell_type": "markdown",
   "metadata": {},
   "source": [
    "## #10 Remove empty strings from the list of strings.\n",
    "Input:  `list_of_strings = ['I', 'love', '', '', 'data', '', 'science', '!']`\n",
    "\n",
    "Expected Output:  `['I', 'love', 'data', 'science', '!']`"
   ]
  },
  {
   "cell_type": "code",
   "execution_count": 11,
   "metadata": {},
   "outputs": [
    {
     "name": "stdout",
     "output_type": "stream",
     "text": [
      "['I', 'love', 'data', 'science', '!']\n"
     ]
    }
   ],
   "source": [
    "list_of_strings = ['I', 'love', '', '', 'data', '', 'science', '!']\n",
    "\n",
    "list_of_strings = list(filter(None, list_of_strings))\n",
    "        \n",
    "print(list_of_strings)"
   ]
  },
  {
   "cell_type": "markdown",
   "metadata": {},
   "source": [
    "##  #11 Check if the value 999 exists in the dicitionary below.  If so, print true, if not print false.\n",
    "\n",
    "Input: sample_dict = {'a': 100, 'b': 999, 'c': 300}\n",
    "\n",
    "Expected Output:  True"
   ]
  },
  {
   "cell_type": "code",
   "execution_count": 12,
   "metadata": {},
   "outputs": [
    {
     "name": "stdout",
     "output_type": "stream",
     "text": [
      "True\n"
     ]
    }
   ],
   "source": [
    "sample_dict = {'a': 100, 'b': 999, 'c': 300}\n",
    "\n",
    "value = 999\n",
    "\n",
    "if value in sample_dict.values():\n",
    "    print(True)\n",
    "else: \n",
    "    print(False)"
   ]
  },
  {
   "cell_type": "markdown",
   "metadata": {},
   "source": [
    "# Extra Credit"
   ]
  },
  {
   "cell_type": "markdown",
   "metadata": {},
   "source": [
    "## Using pandas, read the csv file in the data folder called `titianic.csv` and store it as a variable named `df`."
   ]
  },
  {
   "cell_type": "code",
   "execution_count": 13,
   "metadata": {},
   "outputs": [
    {
     "data": {
      "text/html": [
       "<div>\n",
       "<style scoped>\n",
       "    .dataframe tbody tr th:only-of-type {\n",
       "        vertical-align: middle;\n",
       "    }\n",
       "\n",
       "    .dataframe tbody tr th {\n",
       "        vertical-align: top;\n",
       "    }\n",
       "\n",
       "    .dataframe thead th {\n",
       "        text-align: right;\n",
       "    }\n",
       "</style>\n",
       "<table border=\"1\" class=\"dataframe\">\n",
       "  <thead>\n",
       "    <tr style=\"text-align: right;\">\n",
       "      <th></th>\n",
       "      <th>passengerid</th>\n",
       "      <th>survived</th>\n",
       "      <th>pclass</th>\n",
       "      <th>name</th>\n",
       "      <th>sex</th>\n",
       "      <th>age</th>\n",
       "      <th>sibsp</th>\n",
       "      <th>parch</th>\n",
       "      <th>ticket</th>\n",
       "      <th>fare</th>\n",
       "      <th>cabin</th>\n",
       "      <th>embarked</th>\n",
       "    </tr>\n",
       "  </thead>\n",
       "  <tbody>\n",
       "    <tr>\n",
       "      <th>0</th>\n",
       "      <td>1</td>\n",
       "      <td>0</td>\n",
       "      <td>3</td>\n",
       "      <td>Braund, Mr. Owen Harris</td>\n",
       "      <td>male</td>\n",
       "      <td>22.0</td>\n",
       "      <td>1</td>\n",
       "      <td>0</td>\n",
       "      <td>A/5 21171</td>\n",
       "      <td>7.2500</td>\n",
       "      <td>NaN</td>\n",
       "      <td>S</td>\n",
       "    </tr>\n",
       "    <tr>\n",
       "      <th>1</th>\n",
       "      <td>2</td>\n",
       "      <td>1</td>\n",
       "      <td>1</td>\n",
       "      <td>Cumings, Mrs. John Bradley (Florence Briggs Th...</td>\n",
       "      <td>female</td>\n",
       "      <td>38.0</td>\n",
       "      <td>1</td>\n",
       "      <td>0</td>\n",
       "      <td>PC 17599</td>\n",
       "      <td>71.2833</td>\n",
       "      <td>C85</td>\n",
       "      <td>C</td>\n",
       "    </tr>\n",
       "    <tr>\n",
       "      <th>2</th>\n",
       "      <td>3</td>\n",
       "      <td>1</td>\n",
       "      <td>3</td>\n",
       "      <td>Heikkinen, Miss. Laina</td>\n",
       "      <td>female</td>\n",
       "      <td>26.0</td>\n",
       "      <td>0</td>\n",
       "      <td>0</td>\n",
       "      <td>STON/O2. 3101282</td>\n",
       "      <td>7.9250</td>\n",
       "      <td>NaN</td>\n",
       "      <td>S</td>\n",
       "    </tr>\n",
       "    <tr>\n",
       "      <th>3</th>\n",
       "      <td>4</td>\n",
       "      <td>1</td>\n",
       "      <td>1</td>\n",
       "      <td>Futrelle, Mrs. Jacques Heath (Lily May Peel)</td>\n",
       "      <td>female</td>\n",
       "      <td>35.0</td>\n",
       "      <td>1</td>\n",
       "      <td>0</td>\n",
       "      <td>113803</td>\n",
       "      <td>53.1000</td>\n",
       "      <td>C123</td>\n",
       "      <td>S</td>\n",
       "    </tr>\n",
       "    <tr>\n",
       "      <th>4</th>\n",
       "      <td>5</td>\n",
       "      <td>0</td>\n",
       "      <td>3</td>\n",
       "      <td>Allen, Mr. William Henry</td>\n",
       "      <td>male</td>\n",
       "      <td>35.0</td>\n",
       "      <td>0</td>\n",
       "      <td>0</td>\n",
       "      <td>373450</td>\n",
       "      <td>8.0500</td>\n",
       "      <td>NaN</td>\n",
       "      <td>S</td>\n",
       "    </tr>\n",
       "  </tbody>\n",
       "</table>\n",
       "</div>"
      ],
      "text/plain": [
       "   passengerid  survived  pclass  \\\n",
       "0            1         0       3   \n",
       "1            2         1       1   \n",
       "2            3         1       3   \n",
       "3            4         1       1   \n",
       "4            5         0       3   \n",
       "\n",
       "                                                name     sex   age  sibsp  \\\n",
       "0                            Braund, Mr. Owen Harris    male  22.0      1   \n",
       "1  Cumings, Mrs. John Bradley (Florence Briggs Th...  female  38.0      1   \n",
       "2                             Heikkinen, Miss. Laina  female  26.0      0   \n",
       "3       Futrelle, Mrs. Jacques Heath (Lily May Peel)  female  35.0      1   \n",
       "4                           Allen, Mr. William Henry    male  35.0      0   \n",
       "\n",
       "   parch            ticket     fare cabin embarked  \n",
       "0      0         A/5 21171   7.2500   NaN        S  \n",
       "1      0          PC 17599  71.2833   C85        C  \n",
       "2      0  STON/O2. 3101282   7.9250   NaN        S  \n",
       "3      0            113803  53.1000  C123        S  \n",
       "4      0            373450   8.0500   NaN        S  "
      ]
     },
     "execution_count": 13,
     "metadata": {},
     "output_type": "execute_result"
    }
   ],
   "source": [
    "import pandas as pd\n",
    "\n",
    "filename = \"data/titanic.csv\"\n",
    "\n",
    "df = pd.read_csv(filename)\n",
    "\n",
    "df.head()"
   ]
  },
  {
   "cell_type": "markdown",
   "metadata": {},
   "source": [
    "## I know we didn't cover this, but figure out how to find the mean age of the age column in your dataframe. "
   ]
  },
  {
   "cell_type": "code",
   "execution_count": 14,
   "metadata": {},
   "outputs": [
    {
     "name": "stdout",
     "output_type": "stream",
     "text": [
      "mean value for all age columns: 29.69911764705882\n"
     ]
    }
   ],
   "source": [
    "mean_ages=df['age'].mean()\n",
    "print(\"mean value for all age columns: \" + str(mean_ages))"
   ]
  },
  {
   "cell_type": "markdown",
   "metadata": {},
   "source": [
    "\n",
    "## What was the oldest and youngest ages on the titanic?"
   ]
  },
  {
   "cell_type": "code",
   "execution_count": 15,
   "metadata": {},
   "outputs": [
    {
     "name": "stdout",
     "output_type": "stream",
     "text": [
      "the youngest on the titanic: 0.42\n",
      "the oldest on the titanic: 80.0\n"
     ]
    }
   ],
   "source": [
    "age_not_null = list(df['age'].dropna())\n",
    "age_not_null.sort()\n",
    "\n",
    "print(\"the youngest on the titanic: \" + str(age_not_null[0]))\n",
    "print(\"the oldest on the titanic: \" + str(age_not_null[-1]))"
   ]
  },
  {
   "cell_type": "markdown",
   "metadata": {},
   "source": [
    "## How many people embarked from station 'S'?"
   ]
  },
  {
   "cell_type": "code",
   "execution_count": 16,
   "metadata": {},
   "outputs": [
    {
     "name": "stdout",
     "output_type": "stream",
     "text": [
      "The number of people embarked from station 'S' is: 644\n"
     ]
    }
   ],
   "source": [
    "df.columns\n",
    "total = list(df['embarked']).count('S')\n",
    "print(\"The number of people embarked from station 'S' is: \" + str(total))"
   ]
  },
  {
   "cell_type": "code",
   "execution_count": null,
   "metadata": {},
   "outputs": [],
   "source": []
  }
 ],
 "metadata": {
  "kernelspec": {
   "display_name": "Python 3",
   "language": "python",
   "name": "python3"
  },
  "language_info": {
   "codemirror_mode": {
    "name": "ipython",
    "version": 3
   },
   "file_extension": ".py",
   "mimetype": "text/x-python",
   "name": "python",
   "nbconvert_exporter": "python",
   "pygments_lexer": "ipython3",
   "version": "3.8.3"
  }
 },
 "nbformat": 4,
 "nbformat_minor": 4
}
